{
 "cells": [
  {
   "cell_type": "code",
   "execution_count": 4,
   "id": "9034c06f",
   "metadata": {},
   "outputs": [],
   "source": [
    "import pandas as pd"
   ]
  },
  {
   "cell_type": "code",
   "execution_count": 5,
   "id": "c3509546",
   "metadata": {},
   "outputs": [],
   "source": [
    "df = pd.read_csv('data.csv')"
   ]
  },
  {
   "cell_type": "code",
   "execution_count": 6,
   "id": "244adabe",
   "metadata": {},
   "outputs": [
    {
     "data": {
      "text/plain": [
       "94300000"
      ]
     },
     "execution_count": 6,
     "metadata": {},
     "output_type": "execute_result"
    }
   ],
   "source": [
    "df.size"
   ]
  },
  {
   "cell_type": "code",
   "execution_count": 7,
   "id": "dad27908",
   "metadata": {},
   "outputs": [],
   "source": [
    "X = df.iloc[:, :-1]\n",
    "y = df.iloc[:, -1]"
   ]
  },
  {
   "cell_type": "code",
   "execution_count": 8,
   "id": "3ed90dd0",
   "metadata": {},
   "outputs": [],
   "source": [
    "from sklearn.preprocessing import LabelBinarizer\n",
    "binencoder = LabelBinarizer()\n",
    "y = binencoder.fit_transform(y)"
   ]
  },
  {
   "cell_type": "code",
   "execution_count": 6,
   "id": "3384732b",
   "metadata": {},
   "outputs": [
    {
     "data": {
      "image/png": "[encoded data removed]",
      "text/plain": [
       "<Figure size 432x288 with 1 Axes>"
      ]
     },
     "metadata": {
      "needs_background": "light"
     },
     "output_type": "display_data"
    }
   ],
   "source": [
    "X_images = X.values.reshape((92000),32,32)\n",
    "import matplotlib.pyplot as plt\n",
    "plt.imshow(X_images[0])\n",
    "plt.show()"
   ]
  },
  {
   "cell_type": "code",
   "execution_count": 7,
   "id": "e5eae4da",
   "metadata": {},
   "outputs": [],
   "source": [
    "from sklearn.model_selection import train_test_split\n",
    "X_train, X_test, y_train, y_test = train_test_split(X_images, y, test_size = 0.2, random_state=90)"
   ]
  },
  {
   "cell_type": "code",
   "execution_count": 8,
   "id": "7e58efc2",
   "metadata": {},
   "outputs": [],
   "source": [
    "X_train = X_train/255\n",
    "X_test = X_test/255\n",
    "\n",
    "#change the dimension from 3 to 5\n",
    "X_train = X_train.reshape(X_train.shape[0], 32,32,1).astype('float32')\n",
    "X_test = X_test.reshape(X_test.shape[0], 32,32,1).astype('float32')"
   ]
  },
  {
   "cell_type": "code",
   "execution_count": 9,
   "id": "c18b4c3b",
   "metadata": {},
   "outputs": [],
   "source": [
    "from tensorflow.keras.datasets import mnist\n",
    "from tensorflow.keras.utils import to_categorical\n",
    "from tensorflow.keras.models import Sequential\n",
    "from tensorflow.keras.layers import Conv2D\n",
    "from tensorflow.keras.layers import MaxPooling2D\n",
    "from tensorflow.keras.layers import Dense,Dropout\n",
    "from tensorflow.keras.layers import Flatten\n",
    "from tensorflow.keras.optimizers import SGD\n",
    "from tensorflow.keras.optimizers import Adam\n",
    "from keras.utils import np_utils\n",
    "from PIL import Image\n",
    "import numpy as np\n",
    "import os"
   ]
  },
  {
   "cell_type": "code",
   "execution_count": 10,
   "id": "3067aedc",
   "metadata": {},
   "outputs": [],
   "source": [
    "model = Sequential()\n",
    "model.add(Conv2D(32, (4, 4), input_shape=(X_train.shape[1], X_train.shape[2], 1), activation='relu',kernel_initializer='he_uniform'))\n",
    "model.add(MaxPooling2D(pool_size=(2, 2)))\n",
    "model.add(Conv2D(64, (3, 3), activation='relu',kernel_initializer='he_uniform'))\n",
    "model.add(Conv2D(64, (3, 3), activation='relu',kernel_initializer='he_uniform'))\n",
    "model.add(MaxPooling2D(pool_size=(2, 2)))\n",
    "model.add(Flatten())\n",
    "model.add(Dense(128, activation='relu',kernel_initializer='he_uniform'))\n",
    "model.add(Dropout(0.5))\n",
    "model.add(Dense(46, activation='softmax'))"
   ]
  },
  {
   "cell_type": "code",
   "execution_count": 11,
   "id": "d2c9e718",
   "metadata": {},
   "outputs": [],
   "source": [
    "opt = SGD(learning_rate=0.01, momentum=0.9)\n",
    "model.compile(loss='categorical_crossentropy', optimizer=opt, metrics=['accuracy'])"
   ]
  },
  {
   "cell_type": "code",
   "execution_count": 12,
   "id": "c5660882",
   "metadata": {},
   "outputs": [
    {
     "name": "stdout",
     "output_type": "stream",
     "text": [
      "Epoch 1/100\n",
      "2300/2300 [==============================] - 21s 5ms/step - loss: 1.0111 - accuracy: 0.7073 - val_loss: 0.2009 - val_accuracy: 0.9402\n",
      "Epoch 2/100\n",
      "2300/2300 [==============================] - 11s 5ms/step - loss: 0.3166 - accuracy: 0.9032 - val_loss: 0.1237 - val_accuracy: 0.9629\n",
      "Epoch 3/100\n",
      "2300/2300 [==============================] - 12s 5ms/step - loss: 0.2183 - accuracy: 0.9330 - val_loss: 0.0972 - val_accuracy: 0.9702\n",
      "Epoch 4/100\n",
      "2300/2300 [==============================] - 11s 5ms/step - loss: 0.1755 - accuracy: 0.9457 - val_loss: 0.0918 - val_accuracy: 0.9723\n",
      "Epoch 5/100\n",
      "2300/2300 [==============================] - 11s 5ms/step - loss: 0.1524 - accuracy: 0.9516 - val_loss: 0.0812 - val_accuracy: 0.9759\n",
      "Epoch 6/100\n",
      "2300/2300 [==============================] - 11s 5ms/step - loss: 0.1266 - accuracy: 0.9610 - val_loss: 0.0810 - val_accuracy: 0.9765\n",
      "Epoch 7/100\n",
      "2300/2300 [==============================] - 11s 5ms/step - loss: 0.1134 - accuracy: 0.9638 - val_loss: 0.0714 - val_accuracy: 0.9803\n",
      "Epoch 8/100\n",
      "2300/2300 [==============================] - 12s 5ms/step - loss: 0.1007 - accuracy: 0.9675 - val_loss: 0.0695 - val_accuracy: 0.9802\n",
      "Epoch 9/100\n",
      "2300/2300 [==============================] - 12s 5ms/step - loss: 0.0883 - accuracy: 0.9710 - val_loss: 0.0714 - val_accuracy: 0.9809\n",
      "Epoch 10/100\n",
      "2300/2300 [==============================] - 12s 5ms/step - loss: 0.0854 - accuracy: 0.9727 - val_loss: 0.0713 - val_accuracy: 0.9811\n",
      "Epoch 11/100\n",
      "2300/2300 [==============================] - 12s 5ms/step - loss: 0.0773 - accuracy: 0.9753 - val_loss: 0.0728 - val_accuracy: 0.9811\n",
      "Epoch 12/100\n",
      "2300/2300 [==============================] - 12s 5ms/step - loss: 0.0717 - accuracy: 0.9768 - val_loss: 0.0634 - val_accuracy: 0.9843s - loss: 0.0709  - ETA: 0s - loss: 0\n",
      "Epoch 13/100\n",
      "2300/2300 [==============================] - 12s 5ms/step - loss: 0.0656 - accuracy: 0.9786 - val_loss: 0.0626 - val_accuracy: 0.9841\n",
      "Epoch 14/100\n",
      "2300/2300 [==============================] - 12s 5ms/step - loss: 0.0632 - accuracy: 0.9798 - val_loss: 0.0661 - val_accuracy: 0.9814\n",
      "Epoch 15/100\n",
      "2300/2300 [==============================] - 12s 5ms/step - loss: 0.0596 - accuracy: 0.9801 - val_loss: 0.0674 - val_accuracy: 0.9822\n",
      "Epoch 16/100\n",
      "2300/2300 [==============================] - 12s 5ms/step - loss: 0.0571 - accuracy: 0.9813 - val_loss: 0.0650 - val_accuracy: 0.9840\n",
      "Epoch 17/100\n",
      "2300/2300 [==============================] - 12s 5ms/step - loss: 0.0568 - accuracy: 0.9813 - val_loss: 0.0767 - val_accuracy: 0.9822\n",
      "Epoch 18/100\n",
      "2300/2300 [==============================] - 12s 5ms/step - loss: 0.0526 - accuracy: 0.9830 - val_loss: 0.0659 - val_accuracy: 0.9829\n",
      "Epoch 19/100\n",
      "2300/2300 [==============================] - 12s 5ms/step - loss: 0.0502 - accuracy: 0.9834 - val_loss: 0.0669 - val_accuracy: 0.9846\n",
      "Epoch 20/100\n",
      "2300/2300 [==============================] - 12s 5ms/step - loss: 0.0467 - accuracy: 0.9849 - val_loss: 0.0705 - val_accuracy: 0.9837\n",
      "Epoch 21/100\n",
      "2300/2300 [==============================] - 12s 5ms/step - loss: 0.0454 - accuracy: 0.9849 - val_loss: 0.0689 - val_accuracy: 0.9839\n",
      "Epoch 22/100\n",
      "2300/2300 [==============================] - 13s 5ms/step - loss: 0.0439 - accuracy: 0.9848 - val_loss: 0.0692 - val_accuracy: 0.9845\n",
      "Epoch 23/100\n",
      "2300/2300 [==============================] - 12s 5ms/step - loss: 0.0456 - accuracy: 0.9851 - val_loss: 0.0677 - val_accuracy: 0.9846\n",
      "Epoch 24/100\n",
      "2300/2300 [==============================] - 13s 6ms/step - loss: 0.0410 - accuracy: 0.9860 - val_loss: 0.0698 - val_accuracy: 0.9846\n",
      "Epoch 25/100\n",
      "2300/2300 [==============================] - 14s 6ms/step - loss: 0.0416 - accuracy: 0.9863 - val_loss: 0.0736 - val_accuracy: 0.9840\n",
      "Epoch 26/100\n",
      "2300/2300 [==============================] - 12s 5ms/step - loss: 0.0376 - accuracy: 0.9874 - val_loss: 0.0840 - val_accuracy: 0.9831\n",
      "Epoch 27/100\n",
      "2300/2300 [==============================] - 13s 5ms/step - loss: 0.0404 - accuracy: 0.9864 - val_loss: 0.0652 - val_accuracy: 0.9853\n",
      "Epoch 28/100\n",
      "2300/2300 [==============================] - 12s 5ms/step - loss: 0.0386 - accuracy: 0.9871 - val_loss: 0.0744 - val_accuracy: 0.9842\n",
      "Epoch 29/100\n",
      "2300/2300 [==============================] - 13s 5ms/step - loss: 0.0372 - accuracy: 0.9876 - val_loss: 0.0884 - val_accuracy: 0.9828\n",
      "Epoch 30/100\n",
      "2300/2300 [==============================] - 13s 6ms/step - loss: 0.0379 - accuracy: 0.9882 - val_loss: 0.0662 - val_accuracy: 0.9847\n",
      "Epoch 31/100\n",
      "2300/2300 [==============================] - 13s 6ms/step - loss: 0.0359 - accuracy: 0.9879 - val_loss: 0.0697 - val_accuracy: 0.9858\n",
      "Epoch 32/100\n",
      "2300/2300 [==============================] - 12s 5ms/step - loss: 0.0353 - accuracy: 0.9886 - val_loss: 0.0668 - val_accuracy: 0.9859\n",
      "Epoch 33/100\n",
      "2300/2300 [==============================] - 12s 5ms/step - loss: 0.0330 - accuracy: 0.9892 - val_loss: 0.0735 - val_accuracy: 0.9849\n",
      "Epoch 34/100\n",
      "2300/2300 [==============================] - 12s 5ms/step - loss: 0.0335 - accuracy: 0.9894 - val_loss: 0.0641 - val_accuracy: 0.9858\n",
      "Epoch 35/100\n",
      "2300/2300 [==============================] - 13s 6ms/step - loss: 0.0336 - accuracy: 0.9890 - val_loss: 0.0728 - val_accuracy: 0.9862\n",
      "Epoch 36/100\n",
      "2300/2300 [==============================] - 13s 5ms/step - loss: 0.0352 - accuracy: 0.9884 - val_loss: 0.0665 - val_accuracy: 0.9848\n",
      "Epoch 37/100\n",
      "2300/2300 [==============================] - 13s 6ms/step - loss: 0.0338 - accuracy: 0.9891 - val_loss: 0.0741 - val_accuracy: 0.9848\n",
      "Epoch 38/100\n",
      "2300/2300 [==============================] - 13s 6ms/step - loss: 0.0312 - accuracy: 0.9897 - val_loss: 0.0705 - val_accuracy: 0.9859\n",
      "Epoch 39/100\n",
      "2300/2300 [==============================] - 13s 6ms/step - loss: 0.0305 - accuracy: 0.9901 - val_loss: 0.0796 - val_accuracy: 0.9847\n",
      "Epoch 40/100\n",
      "2300/2300 [==============================] - 13s 6ms/step - loss: 0.0300 - accuracy: 0.9902 - val_loss: 0.0852 - val_accuracy: 0.9845\n",
      "Epoch 41/100\n",
      "2300/2300 [==============================] - 12s 5ms/step - loss: 0.0310 - accuracy: 0.9897 - val_loss: 0.0699 - val_accuracy: 0.9862\n",
      "Epoch 42/100\n",
      "2300/2300 [==============================] - 13s 6ms/step - loss: 0.0296 - accuracy: 0.9902 - val_loss: 0.0819 - val_accuracy: 0.9857\n",
      "Epoch 43/100\n",
      "2300/2300 [==============================] - 12s 5ms/step - loss: 0.0349 - accuracy: 0.9889 - val_loss: 0.0780 - val_accuracy: 0.9858\n",
      "Epoch 44/100\n",
      "2300/2300 [==============================] - 13s 5ms/step - loss: 0.0296 - accuracy: 0.9903 - val_loss: 0.0931 - val_accuracy: 0.9848\n",
      "Epoch 45/100\n",
      "2300/2300 [==============================] - 13s 5ms/step - loss: 0.0318 - accuracy: 0.9899 - val_loss: 0.0806 - val_accuracy: 0.9843\n",
      "Epoch 46/100\n",
      "2300/2300 [==============================] - 13s 6ms/step - loss: 0.0277 - accuracy: 0.9912 - val_loss: 0.0771 - val_accuracy: 0.9854\n",
      "Epoch 47/100\n",
      "2300/2300 [==============================] - 14s 6ms/step - loss: 0.0292 - accuracy: 0.9905 - val_loss: 0.0798 - val_accuracy: 0.9861\n",
      "Epoch 48/100\n",
      "2300/2300 [==============================] - 14s 6ms/step - loss: 0.0292 - accuracy: 0.9907 - val_loss: 0.0823 - val_accuracy: 0.9855\n",
      "Epoch 49/100\n",
      "2300/2300 [==============================] - 13s 6ms/step - loss: 0.0295 - accuracy: 0.9904 - val_loss: 0.0729 - val_accuracy: 0.9862\n",
      "Epoch 50/100\n",
      "2300/2300 [==============================] - 13s 6ms/step - loss: 0.0263 - accuracy: 0.9915 - val_loss: 0.0828 - val_accuracy: 0.9855\n",
      "Epoch 51/100\n",
      "2300/2300 [==============================] - 13s 6ms/step - loss: 0.0270 - accuracy: 0.9916 - val_loss: 0.0812 - val_accuracy: 0.9863\n",
      "Epoch 52/100\n",
      "2300/2300 [==============================] - 13s 6ms/step - loss: 0.0241 - accuracy: 0.9922 - val_loss: 0.0837 - val_accuracy: 0.9854\n",
      "Epoch 53/100\n",
      "2300/2300 [==============================] - 13s 6ms/step - loss: 0.0263 - accuracy: 0.9914 - val_loss: 0.0825 - val_accuracy: 0.9867\n",
      "Epoch 54/100\n",
      "2300/2300 [==============================] - 13s 6ms/step - loss: 0.0283 - accuracy: 0.9912 - val_loss: 0.0790 - val_accuracy: 0.9858\n",
      "Epoch 55/100\n",
      "2300/2300 [==============================] - 12s 5ms/step - loss: 0.0313 - accuracy: 0.9906 - val_loss: 0.0765 - val_accuracy: 0.9857\n",
      "Epoch 56/100\n",
      "2300/2300 [==============================] - 12s 5ms/step - loss: 0.0255 - accuracy: 0.9917 - val_loss: 0.0807 - val_accuracy: 0.9865\n",
      "Epoch 57/100\n",
      "2300/2300 [==============================] - 12s 5ms/step - loss: 0.0274 - accuracy: 0.9914 - val_loss: 0.0886 - val_accuracy: 0.9860\n",
      "Epoch 58/100\n",
      "2300/2300 [==============================] - 12s 5ms/step - loss: 0.0280 - accuracy: 0.9917 - val_loss: 0.0886 - val_accuracy: 0.9854\n",
      "Epoch 59/100\n",
      "2300/2300 [==============================] - 12s 5ms/step - loss: 0.0265 - accuracy: 0.9919 - val_loss: 0.0819 - val_accuracy: 0.9861\n",
      "Epoch 60/100\n",
      "2300/2300 [==============================] - 12s 5ms/step - loss: 0.0239 - accuracy: 0.9921 - val_loss: 0.0836 - val_accuracy: 0.9861\n",
      "Epoch 61/100\n",
      "2300/2300 [==============================] - 12s 5ms/step - loss: 0.0253 - accuracy: 0.9920 - val_loss: 0.0856 - val_accuracy: 0.9855\n",
      "Epoch 62/100\n",
      "2300/2300 [==============================] - 12s 5ms/step - loss: 0.0268 - accuracy: 0.9917 - val_loss: 0.0823 - val_accuracy: 0.9858\n",
      "Epoch 63/100\n",
      "2300/2300 [==============================] - 12s 5ms/step - loss: 0.0259 - accuracy: 0.9915 - val_loss: 0.0868 - val_accuracy: 0.9859\n",
      "Epoch 64/100\n",
      "2300/2300 [==============================] - 12s 5ms/step - loss: 0.0266 - accuracy: 0.9920 - val_loss: 0.0936 - val_accuracy: 0.9862\n",
      "Epoch 65/100\n",
      "2300/2300 [==============================] - 12s 5ms/step - loss: 0.0242 - accuracy: 0.9927 - val_loss: 0.0923 - val_accuracy: 0.9852\n",
      "Epoch 66/100\n",
      "2300/2300 [==============================] - 13s 5ms/step - loss: 0.0254 - accuracy: 0.9921 - val_loss: 0.0860 - val_accuracy: 0.9852\n",
      "Epoch 67/100\n",
      "2300/2300 [==============================] - 13s 5ms/step - loss: 0.0246 - accuracy: 0.9922 - val_loss: 0.0830 - val_accuracy: 0.9867\n",
      "Epoch 68/100\n",
      "2300/2300 [==============================] - 13s 6ms/step - loss: 0.0242 - accuracy: 0.9924 - val_loss: 0.0868 - val_accuracy: 0.9865\n",
      "Epoch 69/100\n",
      "2300/2300 [==============================] - 13s 5ms/step - loss: 0.0215 - accuracy: 0.9932 - val_loss: 0.0916 - val_accuracy: 0.9859\n",
      "Epoch 70/100\n",
      "2300/2300 [==============================] - 13s 5ms/step - loss: 0.0281 - accuracy: 0.9913 - val_loss: 0.0830 - val_accuracy: 0.9857\n",
      "Epoch 71/100\n",
      "2300/2300 [==============================] - 12s 5ms/step - loss: 0.0258 - accuracy: 0.9922 - val_loss: 0.0814 - val_accuracy: 0.9858\n",
      "Epoch 72/100\n",
      "2300/2300 [==============================] - 13s 5ms/step - loss: 0.0218 - accuracy: 0.9933 - val_loss: 0.0897 - val_accuracy: 0.9867\n",
      "Epoch 73/100\n",
      "2300/2300 [==============================] - 12s 5ms/step - loss: 0.0243 - accuracy: 0.9926 - val_loss: 0.0907 - val_accuracy: 0.9863\n",
      "Epoch 74/100\n",
      "2300/2300 [==============================] - 12s 5ms/step - loss: 0.0250 - accuracy: 0.9927 - val_loss: 0.1047 - val_accuracy: 0.9852\n",
      "Epoch 75/100\n",
      "2300/2300 [==============================] - 13s 6ms/step - loss: 0.0229 - accuracy: 0.9930 - val_loss: 0.0858 - val_accuracy: 0.9869\n",
      "Epoch 76/100\n",
      "2300/2300 [==============================] - 13s 5ms/step - loss: 0.0261 - accuracy: 0.9918 - val_loss: 0.0878 - val_accuracy: 0.9856\n",
      "Epoch 77/100\n",
      "2300/2300 [==============================] - 12s 5ms/step - loss: 0.0264 - accuracy: 0.9915 - val_loss: 0.1006 - val_accuracy: 0.9846\n",
      "Epoch 78/100\n",
      "2300/2300 [==============================] - 13s 5ms/step - loss: 0.0280 - accuracy: 0.9913 - val_loss: 0.0948 - val_accuracy: 0.9858\n",
      "Epoch 79/100\n",
      "2300/2300 [==============================] - 12s 5ms/step - loss: 0.0274 - accuracy: 0.9917 - val_loss: 0.1028 - val_accuracy: 0.9858\n",
      "Epoch 80/100\n",
      "2300/2300 [==============================] - 13s 5ms/step - loss: 0.0284 - accuracy: 0.9919 - val_loss: 0.1022 - val_accuracy: 0.9855\n",
      "Epoch 81/100\n",
      "2300/2300 [==============================] - 13s 6ms/step - loss: 0.0304 - accuracy: 0.9910 - val_loss: 0.1005 - val_accuracy: 0.9845\n",
      "Epoch 82/100\n",
      "2300/2300 [==============================] - 13s 5ms/step - loss: 0.0293 - accuracy: 0.9913 - val_loss: 0.0923 - val_accuracy: 0.9858\n",
      "Epoch 83/100\n",
      "2300/2300 [==============================] - 13s 5ms/step - loss: 0.0273 - accuracy: 0.9918 - val_loss: 0.0959 - val_accuracy: 0.9857\n",
      "Epoch 84/100\n",
      "2300/2300 [==============================] - 13s 5ms/step - loss: 0.0260 - accuracy: 0.9920 - val_loss: 0.0978 - val_accuracy: 0.9843\n",
      "Epoch 85/100\n",
      "2300/2300 [==============================] - 12s 5ms/step - loss: 0.0257 - accuracy: 0.9923 - val_loss: 0.0904 - val_accuracy: 0.9863\n",
      "Epoch 86/100\n",
      "2300/2300 [==============================] - 13s 6ms/step - loss: 0.0263 - accuracy: 0.9923 - val_loss: 0.0866 - val_accuracy: 0.9862\n",
      "Epoch 87/100\n",
      "2300/2300 [==============================] - 13s 6ms/step - loss: 0.0287 - accuracy: 0.9919 - val_loss: 0.0903 - val_accuracy: 0.9854\n",
      "Epoch 88/100\n",
      "2300/2300 [==============================] - 13s 5ms/step - loss: 0.0239 - accuracy: 0.9930 - val_loss: 0.0844 - val_accuracy: 0.9866\n",
      "Epoch 89/100\n",
      "2300/2300 [==============================] - 13s 5ms/step - loss: 0.0215 - accuracy: 0.9933 - val_loss: 0.0978 - val_accuracy: 0.9853\n",
      "Epoch 90/100\n",
      "2300/2300 [==============================] - 13s 5ms/step - loss: 0.0257 - accuracy: 0.9928 - val_loss: 0.0919 - val_accuracy: 0.9870\n",
      "Epoch 91/100\n",
      "2300/2300 [==============================] - 14s 6ms/step - loss: 0.0242 - accuracy: 0.9926 - val_loss: 0.0922 - val_accuracy: 0.9863\n",
      "Epoch 92/100\n",
      "2300/2300 [==============================] - 13s 6ms/step - loss: 0.0280 - accuracy: 0.9918 - val_loss: 0.0930 - val_accuracy: 0.9871\n",
      "Epoch 93/100\n",
      "2300/2300 [==============================] - 13s 5ms/step - loss: 0.0284 - accuracy: 0.9915 - val_loss: 0.1016 - val_accuracy: 0.9859ss: 0\n",
      "Epoch 94/100\n",
      "2300/2300 [==============================] - 12s 5ms/step - loss: 0.0253 - accuracy: 0.9925 - val_loss: 0.0958 - val_accuracy: 0.9862\n",
      "Epoch 95/100\n",
      "2300/2300 [==============================] - 13s 6ms/step - loss: 0.0254 - accuracy: 0.9924 - val_loss: 0.1069 - val_accuracy: 0.9839\n",
      "Epoch 96/100\n",
      "2300/2300 [==============================] - 13s 5ms/step - loss: 0.0214 - accuracy: 0.9933 - val_loss: 0.1082 - val_accuracy: 0.9849\n",
      "Epoch 97/100\n",
      "2300/2300 [==============================] - 13s 6ms/step - loss: 0.0238 - accuracy: 0.9928 - val_loss: 0.1070 - val_accuracy: 0.9851\n",
      "Epoch 98/100\n",
      "2300/2300 [==============================] - 13s 6ms/step - loss: 0.0286 - accuracy: 0.9916 - val_loss: 0.1176 - val_accuracy: 0.9849\n",
      "Epoch 99/100\n",
      "2300/2300 [==============================] - 13s 6ms/step - loss: 0.0265 - accuracy: 0.9928 - val_loss: 0.1023 - val_accuracy: 0.9848\n",
      "Epoch 100/100\n",
      "2300/2300 [==============================] - 13s 6ms/step - loss: 0.0257 - accuracy: 0.9926 - val_loss: 0.0863 - val_accuracy: 0.9878\n"
     ]
    }
   ],
   "source": [
    "history=model.fit(X_train, y_train, validation_data=(X_test, y_test), epochs=100, batch_size=32)"
   ]
  },
  {
   "cell_type": "code",
   "execution_count": 13,
   "id": "0aa910a5",
   "metadata": {},
   "outputs": [],
   "source": [
    "import numpy as np\n",
    "np.save('history_002.npy',history.history)\n",
    "model.save(\"OCR_002.h5\") "
   ]
  },
  {
   "cell_type": "code",
   "execution_count": 1,
   "id": "b9b7fae3",
   "metadata": {},
   "outputs": [
    {
     "name": "stderr",
     "output_type": "stream",
     "text": [
      "C:\\Users\\Rupin Patel\\anaconda3\\lib\\site-packages\\numpy\\_distributor_init.py:30: UserWarning: loaded more than 1 DLL from .libs:\n",
      "C:\\Users\\Rupin Patel\\anaconda3\\lib\\site-packages\\numpy\\.libs\\libopenblas.NOIJJG62EMASZI6NYURL6JBKM4EVBGM7.gfortran-win_amd64.dll\n",
      "C:\\Users\\Rupin Patel\\anaconda3\\lib\\site-packages\\numpy\\.libs\\libopenblas.WCDJNK7YVMPZQ2ME2ZZHJJRJ3JIKNDB7.gfortran-win_amd64.dll\n",
      "C:\\Users\\Rupin Patel\\anaconda3\\lib\\site-packages\\numpy\\.libs\\libopenblas.xwydx2ikjw2nmtwsfyngfuwkqu3lytcz.gfortran-win_amd64.dll\n",
      "  warnings.warn(\"loaded more than 1 DLL from .libs:\"\n"
     ]
    }
   ],
   "source": [
    "from tensorflow.keras.models import load_model\n",
    "model = load_model (\"OCR_002.h5\")"
   ]
  },
  {
   "cell_type": "code",
   "execution_count": 14,
   "id": "fc14b771",
   "metadata": {},
   "outputs": [],
   "source": [
    "d={'character_01_ka':'क','character_25_ma':'म'}"
   ]
  },
  {
   "cell_type": "code",
   "execution_count": 16,
   "id": "caaefd2b",
   "metadata": {},
   "outputs": [
    {
     "data": {
      "image/png": "[encoded data removed]",
      "text/plain": [
       "<Figure size 432x288 with 1 Axes>"
      ]
     },
     "metadata": {
      "needs_background": "light"
     },
     "output_type": "display_data"
    },
    {
     "name": "stdout",
     "output_type": "stream",
     "text": [
      "म\n"
     ]
    },
    {
     "data": {
      "image/png": "[encoded data removed]",
      "text/plain": [
       "<Figure size 432x288 with 1 Axes>"
      ]
     },
     "metadata": {
      "needs_background": "light"
     },
     "output_type": "display_data"
    },
    {
     "name": "stdout",
     "output_type": "stream",
     "text": [
      "क\n",
      "कम\n"
     ]
    }
   ],
   "source": [
    "from PIL import Image\n",
    "import glob\n",
    "import numpy as np\n",
    "import matplotlib.pyplot as plt\n",
    "image_list = []\n",
    "s=\"\"\n",
    "for filename in glob.glob(r'H:\\Projects\\Manthan\\DevanagariHandwrittenCharacterDataset\\cropped_img/*.png'):\n",
    "    img=Image.open(filename).convert('L')\n",
    "    x = np.array(img)\n",
    "    plt.imshow(x)\n",
    "    plt.show()\n",
    "\n",
    "\n",
    "    imgTrans =x.reshape(1,32,32,1)\n",
    "    imgTrans.shape\n",
    "\n",
    "    predictions = model.predict(imgTrans)\n",
    "    print(d[binencoder.classes_[np.argmax(predictions)]])\n",
    "    s=s+d[binencoder.classes_[np.argmax(predictions)]]\n",
    "print(s[::-1])"
   ]
  },
  {
   "cell_type": "code",
   "execution_count": 25,
   "id": "5fb4429a",
   "metadata": {},
   "outputs": [
    {
     "data": {
      "text/plain": [
       "<matplotlib.legend.Legend at 0x209c2a02d90>"
      ]
     },
     "execution_count": 25,
     "metadata": {},
     "output_type": "execute_result"
    },
    {
     "data": {
      "image/png": "[encoded data removed]",
      "text/plain": [
       "<Figure size 432x288 with 1 Axes>"
      ]
     },
     "metadata": {
      "needs_background": "light"
     },
     "output_type": "display_data"
    }
   ],
   "source": [
    "import matplotlib.pyplot as plt\n",
    "plt.plot(history.history['accuracy'],label=\"train_accuracy\")\n",
    "plt.plot(history.history['val_accuracy'],label=\"test_accuracy\")\n",
    "plt.legend()"
   ]
  },
  {
   "cell_type": "code",
   "execution_count": null,
   "id": "9ba2bee1",
   "metadata": {},
   "outputs": [],
   "source": []
  }
 ],
 "metadata": {
  "kernelspec": {
   "display_name": "Python 3 (ipykernel)",
   "language": "python",
   "name": "python3"
  },
  "language_info": {
   "codemirror_mode": {
    "name": "ipython",
    "version": 3
   },
   "file_extension": ".py",
   "mimetype": "text/x-python",
   "name": "python",
   "nbconvert_exporter": "python",
   "pygments_lexer": "ipython3",
   "version": "3.8.11"
  }
 },
 "nbformat": 4,
 "nbformat_minor": 5
}
